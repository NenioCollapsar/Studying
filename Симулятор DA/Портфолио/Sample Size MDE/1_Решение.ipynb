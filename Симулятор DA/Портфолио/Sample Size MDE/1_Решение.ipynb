{
 "cells": [
  {
   "cell_type": "code",
   "execution_count": 7,
   "id": "74d7e9ec-8a00-404b-acce-75b314c90b77",
   "metadata": {},
   "outputs": [],
   "source": [
    "import pandahouse\n",
    "import pandas as pd\n",
    "import scipy.stats as stats \n",
    "from scipy.stats import norm, ttest_ind\n",
    "import numpy as np\n",
    "import seaborn as sns\n",
    "import matplotlib.pyplot as plt\n",
    "%matplotlib inline\n",
    "import hashlib # Делать хеши\n",
    "import swifter # Для ускорения метода apply\n",
    "from tqdm import tqdm # Для отслеживания прогресса"
   ]
  },
  {
   "cell_type": "code",
   "execution_count": 8,
   "id": "be3380b7-f756-457f-a88d-9b54d1ab6345",
   "metadata": {},
   "outputs": [],
   "source": [
    "#создаём генератор псевдослучайных чисел\n",
    "rng = np.random.default_rng()"
   ]
  },
  {
   "cell_type": "code",
   "execution_count": 9,
   "id": "65823d2b-11e1-4731-ae63-41b655c67cc4",
   "metadata": {},
   "outputs": [],
   "source": [
    "connection = {\n",
    "    'host': 'https://clickhouse.lab.karpov.courses',\n",
    "    'password': 'dpo_python_2020',\n",
    "    'user': 'student',\n",
    "    'database': 'simulator_20250520'\n",
    "}\n",
    "\n",
    "#Просмотры views на 1 пользователя в течение недели\n",
    "\n",
    "q = \"\"\"\n",
    "SELECT views, count() as users\n",
    "FROM\n",
    "(SELECT  \n",
    "    user_id,\n",
    "    sum(action = 'view') as views\n",
    "FROM simulator_20250520.feed_actions \n",
    "WHERE toDate(time) >= '2025-04-25' and toDate(time) <= '2025-05-01'\n",
    "GROUP BY user_id\n",
    ")\n",
    "GROUP BY views\n",
    "\"\"\"\n",
    "\n",
    "views_distribution = pandahouse.read_clickhouse(q, connection=connection)"
   ]
  },
  {
   "cell_type": "code",
   "execution_count": 10,
   "id": "cd6fe1e2-7e41-4c7a-84ad-c67f4db9e725",
   "metadata": {},
   "outputs": [
    {
     "data": {
      "text/plain": [
       "41997"
      ]
     },
     "execution_count": 10,
     "metadata": {},
     "output_type": "execute_result"
    }
   ],
   "source": [
    "#общее количество пользователей\n",
    "views_distribution.users.sum()"
   ]
  },
  {
   "cell_type": "code",
   "execution_count": 11,
   "id": "dd14b1fc-3368-466f-ab61-b8cebd0bd140",
   "metadata": {},
   "outputs": [
    {
     "data": {
      "text/html": [
       "<div>\n",
       "<style scoped>\n",
       "    .dataframe tbody tr th:only-of-type {\n",
       "        vertical-align: middle;\n",
       "    }\n",
       "\n",
       "    .dataframe tbody tr th {\n",
       "        vertical-align: top;\n",
       "    }\n",
       "\n",
       "    .dataframe thead th {\n",
       "        text-align: right;\n",
       "    }\n",
       "</style>\n",
       "<table border=\"1\" class=\"dataframe\">\n",
       "  <thead>\n",
       "    <tr style=\"text-align: right;\">\n",
       "      <th></th>\n",
       "      <th>views</th>\n",
       "      <th>users</th>\n",
       "      <th>p</th>\n",
       "    </tr>\n",
       "  </thead>\n",
       "  <tbody>\n",
       "    <tr>\n",
       "      <th>56</th>\n",
       "      <td>16</td>\n",
       "      <td>545</td>\n",
       "      <td>0.012977</td>\n",
       "    </tr>\n",
       "    <tr>\n",
       "      <th>49</th>\n",
       "      <td>15</td>\n",
       "      <td>537</td>\n",
       "      <td>0.012787</td>\n",
       "    </tr>\n",
       "    <tr>\n",
       "      <th>116</th>\n",
       "      <td>14</td>\n",
       "      <td>500</td>\n",
       "      <td>0.011906</td>\n",
       "    </tr>\n",
       "    <tr>\n",
       "      <th>265</th>\n",
       "      <td>35</td>\n",
       "      <td>485</td>\n",
       "      <td>0.011548</td>\n",
       "    </tr>\n",
       "    <tr>\n",
       "      <th>16</th>\n",
       "      <td>30</td>\n",
       "      <td>469</td>\n",
       "      <td>0.011167</td>\n",
       "    </tr>\n",
       "    <tr>\n",
       "      <th>...</th>\n",
       "      <td>...</td>\n",
       "      <td>...</td>\n",
       "      <td>...</td>\n",
       "    </tr>\n",
       "    <tr>\n",
       "      <th>184</th>\n",
       "      <td>290</td>\n",
       "      <td>1</td>\n",
       "      <td>0.000024</td>\n",
       "    </tr>\n",
       "    <tr>\n",
       "      <th>276</th>\n",
       "      <td>321</td>\n",
       "      <td>1</td>\n",
       "      <td>0.000024</td>\n",
       "    </tr>\n",
       "    <tr>\n",
       "      <th>23</th>\n",
       "      <td>319</td>\n",
       "      <td>1</td>\n",
       "      <td>0.000024</td>\n",
       "    </tr>\n",
       "    <tr>\n",
       "      <th>87</th>\n",
       "      <td>295</td>\n",
       "      <td>1</td>\n",
       "      <td>0.000024</td>\n",
       "    </tr>\n",
       "    <tr>\n",
       "      <th>11</th>\n",
       "      <td>288</td>\n",
       "      <td>1</td>\n",
       "      <td>0.000024</td>\n",
       "    </tr>\n",
       "  </tbody>\n",
       "</table>\n",
       "<p>301 rows × 3 columns</p>\n",
       "</div>"
      ],
      "text/plain": [
       "     views  users         p\n",
       "56      16    545  0.012977\n",
       "49      15    537  0.012787\n",
       "116     14    500  0.011906\n",
       "265     35    485  0.011548\n",
       "16      30    469  0.011167\n",
       "..     ...    ...       ...\n",
       "184    290      1  0.000024\n",
       "276    321      1  0.000024\n",
       "23     319      1  0.000024\n",
       "87     295      1  0.000024\n",
       "11     288      1  0.000024\n",
       "\n",
       "[301 rows x 3 columns]"
      ]
     },
     "execution_count": 11,
     "metadata": {},
     "output_type": "execute_result"
    }
   ],
   "source": [
    "#нормируем на общее число всех пользователей, получаем вероятность этого значения\n",
    "views_distribution['p'] = views_distribution['users']/views_distribution.users.sum()\n",
    "views_distribution.sort_values(by = 'p', ascending = False)"
   ]
  },
  {
   "cell_type": "code",
   "execution_count": 12,
   "id": "fff1b5a3-9d99-468f-8159-6a994f665d92",
   "metadata": {},
   "outputs": [],
   "source": [
    "#Наше настоящее распределение просмотров (до применения алгоритма) сделаем дискретным.\n",
    "views_distr = stats.rv_discrete(name='views_distr', \n",
    "                                values=(views_distribution['views'], \n",
    "                                        views_distribution['p']))"
   ]
  },
  {
   "cell_type": "code",
   "execution_count": 13,
   "id": "4a3635ac-0482-4cd8-b355-ac122b767b9a",
   "metadata": {},
   "outputs": [
    {
     "data": {
      "text/plain": [
       "70.30916494035289"
      ]
     },
     "execution_count": 13,
     "metadata": {},
     "output_type": "execute_result"
    }
   ],
   "source": [
    "#cреднее число просмотров = 70\n",
    "views_distr.mean()"
   ]
  },
  {
   "cell_type": "code",
   "execution_count": 14,
   "id": "fff596b3-bfb8-4b3c-967a-499accd3a046",
   "metadata": {},
   "outputs": [
    {
     "data": {
      "text/plain": [
       "71.462"
      ]
     },
     "execution_count": 14,
     "metadata": {},
     "output_type": "execute_result"
    }
   ],
   "source": [
    "#среднее число просмотров по сгенерированной выборке при размере 100 = 75 - выше, при 1000 - 71,8 - уже лучше\n",
    "views_distr.rvs(size = 1000).mean() "
   ]
  },
  {
   "cell_type": "code",
   "execution_count": 15,
   "id": "746df492-78e7-4fbf-9c27-23f1ebd4f433",
   "metadata": {},
   "outputs": [
    {
     "data": {
      "text/plain": [
       "60.0"
      ]
     },
     "execution_count": 15,
     "metadata": {},
     "output_type": "execute_result"
    }
   ],
   "source": [
    "#медиана просмотров = 60\n",
    "views_distr.median()"
   ]
  },
  {
   "cell_type": "code",
   "execution_count": 16,
   "id": "be4d7a72-2b6e-4b6e-a503-fcacc42433e2",
   "metadata": {},
   "outputs": [
    {
     "data": {
      "text/plain": [
       "46.795649294309676"
      ]
     },
     "execution_count": 16,
     "metadata": {},
     "output_type": "execute_result"
    }
   ],
   "source": [
    "#стандартное отклонение = 46,8\n",
    "views_distr.std()"
   ]
  },
  {
   "cell_type": "code",
   "execution_count": 17,
   "id": "63b51583-b31b-4b04-9aa1-264fcb52e552",
   "metadata": {},
   "outputs": [
    {
     "data": {
      "text/plain": [
       "<AxesSubplot:ylabel='Count'>"
      ]
     },
     "execution_count": 17,
     "metadata": {},
     "output_type": "execute_result"
    },
    {
     "data": {
      "image/png": "[encoded data removed]",
      "text/plain": [
       "<Figure size 432x288 with 1 Axes>"
      ]
     },
     "metadata": {
      "needs_background": "light"
     },
     "output_type": "display_data"
    }
   ],
   "source": [
    "#Построим гистограмму просмотров\n",
    "sns.histplot(views_distr.rvs(size=2000))"
   ]
  },
  {
   "cell_type": "code",
   "execution_count": 18,
   "id": "3be1da60-024d-454a-bb2f-68ac491be41c",
   "metadata": {},
   "outputs": [],
   "source": [
    "#CTR за неделю\n",
    "\n",
    "q = \"\"\"\n",
    "SELECT\n",
    "floor(ctr, 2) as ctr, \n",
    "count() as users \n",
    "\n",
    "FROM \n",
    "(SELECT toDate(time) as dt,\n",
    "    user_id,\n",
    "    sum(action = 'like')/sum(action = 'view') as ctr\n",
    "FROM simulator_20250520.feed_actions\n",
    "WHERE toDate(time) >= '2025-04-25' and toDate(time) <= '2025-05-01'\n",
    "GROUP BY dt, user_id\n",
    ")\n",
    "GROUP BY ctr\n",
    "\"\"\"\n",
    "ctr_distribution = pandahouse.read_clickhouse(q, connection=connection)"
   ]
  },
  {
   "cell_type": "code",
   "execution_count": 19,
   "id": "2bf595ee-9df4-49b5-a961-4f8e71d94bfc",
   "metadata": {},
   "outputs": [
    {
     "data": {
      "text/html": [
       "<div>\n",
       "<style scoped>\n",
       "    .dataframe tbody tr th:only-of-type {\n",
       "        vertical-align: middle;\n",
       "    }\n",
       "\n",
       "    .dataframe tbody tr th {\n",
       "        vertical-align: top;\n",
       "    }\n",
       "\n",
       "    .dataframe thead th {\n",
       "        text-align: right;\n",
       "    }\n",
       "</style>\n",
       "<table border=\"1\" class=\"dataframe\">\n",
       "  <thead>\n",
       "    <tr style=\"text-align: right;\">\n",
       "      <th></th>\n",
       "      <th>ctr</th>\n",
       "      <th>users</th>\n",
       "      <th>p</th>\n",
       "    </tr>\n",
       "  </thead>\n",
       "  <tbody>\n",
       "    <tr>\n",
       "      <th>17</th>\n",
       "      <td>0.20</td>\n",
       "      <td>4993</td>\n",
       "      <td>0.058658</td>\n",
       "    </tr>\n",
       "    <tr>\n",
       "      <th>33</th>\n",
       "      <td>0.16</td>\n",
       "      <td>4233</td>\n",
       "      <td>0.049729</td>\n",
       "    </tr>\n",
       "    <tr>\n",
       "      <th>50</th>\n",
       "      <td>0.25</td>\n",
       "      <td>4216</td>\n",
       "      <td>0.049529</td>\n",
       "    </tr>\n",
       "    <tr>\n",
       "      <th>6</th>\n",
       "      <td>0.18</td>\n",
       "      <td>4213</td>\n",
       "      <td>0.049494</td>\n",
       "    </tr>\n",
       "    <tr>\n",
       "      <th>72</th>\n",
       "      <td>0.21</td>\n",
       "      <td>3957</td>\n",
       "      <td>0.046487</td>\n",
       "    </tr>\n",
       "    <tr>\n",
       "      <th>...</th>\n",
       "      <td>...</td>\n",
       "      <td>...</td>\n",
       "      <td>...</td>\n",
       "    </tr>\n",
       "    <tr>\n",
       "      <th>12</th>\n",
       "      <td>0.81</td>\n",
       "      <td>2</td>\n",
       "      <td>0.000023</td>\n",
       "    </tr>\n",
       "    <tr>\n",
       "      <th>73</th>\n",
       "      <td>0.83</td>\n",
       "      <td>1</td>\n",
       "      <td>0.000012</td>\n",
       "    </tr>\n",
       "    <tr>\n",
       "      <th>20</th>\n",
       "      <td>0.73</td>\n",
       "      <td>1</td>\n",
       "      <td>0.000012</td>\n",
       "    </tr>\n",
       "    <tr>\n",
       "      <th>51</th>\n",
       "      <td>1.00</td>\n",
       "      <td>1</td>\n",
       "      <td>0.000012</td>\n",
       "    </tr>\n",
       "    <tr>\n",
       "      <th>39</th>\n",
       "      <td>0.88</td>\n",
       "      <td>1</td>\n",
       "      <td>0.000012</td>\n",
       "    </tr>\n",
       "  </tbody>\n",
       "</table>\n",
       "<p>80 rows × 3 columns</p>\n",
       "</div>"
      ],
      "text/plain": [
       "     ctr  users         p\n",
       "17  0.20   4993  0.058658\n",
       "33  0.16   4233  0.049729\n",
       "50  0.25   4216  0.049529\n",
       "6   0.18   4213  0.049494\n",
       "72  0.21   3957  0.046487\n",
       "..   ...    ...       ...\n",
       "12  0.81      2  0.000023\n",
       "73  0.83      1  0.000012\n",
       "20  0.73      1  0.000012\n",
       "51  1.00      1  0.000012\n",
       "39  0.88      1  0.000012\n",
       "\n",
       "[80 rows x 3 columns]"
      ]
     },
     "execution_count": 19,
     "metadata": {},
     "output_type": "execute_result"
    }
   ],
   "source": [
    "#нормируем на общее число всех пользователей - получаем вероятность этого значения\n",
    "ctr_distribution['p'] = ctr_distribution['users']/ctr_distribution.users.sum()\n",
    "ctr_distribution.sort_values(by = 'p', ascending = False)"
   ]
  },
  {
   "cell_type": "code",
   "execution_count": 20,
   "id": "bf706bbb-4539-4ad8-a9b1-a5572c60f6ca",
   "metadata": {},
   "outputs": [
    {
     "data": {
      "text/plain": [
       "0     0.016952\n",
       "1     0.000047\n",
       "2     0.000059\n",
       "3     0.000047\n",
       "4     0.000846\n",
       "        ...   \n",
       "75    0.001010\n",
       "76    0.045253\n",
       "77    0.003184\n",
       "78    0.000752\n",
       "79    0.028183\n",
       "Name: p, Length: 80, dtype: float64"
      ]
     },
     "execution_count": 20,
     "metadata": {},
     "output_type": "execute_result"
    }
   ],
   "source": [
    "ctr_distribution['p']"
   ]
  },
  {
   "cell_type": "code",
   "execution_count": 21,
   "id": "bf988e48-e3e4-40b8-bec0-7397de21b79d",
   "metadata": {},
   "outputs": [],
   "source": [
    "#Наше настоящее распределение CTR до применения алгоритма сделаем дискретным\n",
    "ctr_distr = stats.rv_discrete(name='ctr_distr', \n",
    "                                values=(ctr_distribution['ctr'], \n",
    "                                        ctr_distribution['p']))"
   ]
  },
  {
   "cell_type": "code",
   "execution_count": 22,
   "id": "79e0157c-4893-4115-b93e-b33429f1662d",
   "metadata": {},
   "outputs": [
    {
     "data": {
      "text/plain": [
       "0.21222988451733416"
      ]
     },
     "execution_count": 22,
     "metadata": {},
     "output_type": "execute_result"
    }
   ],
   "source": [
    "#cреднее значение CTR = 0,21\n",
    "ctr_distr.mean()"
   ]
  },
  {
   "cell_type": "code",
   "execution_count": 24,
   "id": "37ff7de0-33bc-4dae-9cf9-ab062b292e20",
   "metadata": {},
   "outputs": [
    {
     "name": "stderr",
     "output_type": "stream",
     "text": [
      "100%|██████████| 20000/20000 [04:17<00:00, 77.79it/s]\n"
     ]
    }
   ],
   "source": [
    "#количество симуляций = 20000 \n",
    "num_simulations = 20000\n",
    "num_group = round(views_distribution.users.sum()/2)\n",
    "p_values = [] #все значения\n",
    "for _ in tqdm(range(num_simulations)):\n",
    "    group_A_views = rng.choice(views_distribution['views'], size=num_group, replace=True, p=views_distribution['p']).astype(np.int64)\n",
    "    group_B_views = rng.choice(views_distribution['views'], size=num_group, replace=True, p=views_distribution['p']).astype(np.int64)\n",
    "    group_B_views = group_B_views + (rng.binomial(n=1, p=0.9, size=num_group) * (1 + rng.binomial(n=1, p=0.5, size=num_group)) *  (group_B_views >= 50))\n",
    "    group_A_ctr = rng.choice(ctr_distribution['ctr'], size=num_group, replace=True, p=ctr_distribution['p'])    \n",
    "    group_B_ctr = rng.choice(ctr_distribution['ctr'], size=num_group, replace=True, p=ctr_distribution['p'])\n",
    "    group_A_likes = rng.binomial(group_A_views, group_A_ctr)\n",
    "    group_B_likes = rng.binomial(group_B_views, group_B_ctr) \n",
    "    p_values.append(stats.ttest_ind(group_A_likes, group_B_likes, equal_var=False).pvalue)"
   ]
  },
  {
   "cell_type": "code",
   "execution_count": 25,
   "id": "7c2fc846-18b0-4d9a-b551-e8fadfb5422f",
   "metadata": {},
   "outputs": [
    {
     "data": {
      "text/plain": [
       "[0.6749829885248804,\n",
       " 0.4463049693342097,\n",
       " 0.8138719044076331,\n",
       " 0.1550497080541787,\n",
       " 0.14806155613395452]"
      ]
     },
     "execution_count": 25,
     "metadata": {},
     "output_type": "execute_result"
    }
   ],
   "source": [
    "p_values[0:5]"
   ]
  },
  {
   "cell_type": "code",
   "execution_count": 26,
   "id": "656065ca-5aac-478e-b006-12ecc4f712c2",
   "metadata": {},
   "outputs": [
    {
     "data": {
      "text/plain": [
       "25.9"
      ]
     },
     "execution_count": 26,
     "metadata": {},
     "output_type": "execute_result"
    }
   ],
   "source": [
    "#мощность теста\n",
    "round((np.mean(np.array(p_values) < 0.05)*100), 1)"
   ]
  }
 ],
 "metadata": {
  "kernelspec": {
   "display_name": "Python 3 (ipykernel)",
   "language": "python",
   "name": "python3"
  },
  "language_info": {
   "codemirror_mode": {
    "name": "ipython",
    "version": 3
   },
   "file_extension": ".py",
   "mimetype": "text/x-python",
   "name": "python",
   "nbconvert_exporter": "python",
   "pygments_lexer": "ipython3",
   "version": "3.8.10"
  }
 },
 "nbformat": 4,
 "nbformat_minor": 5
}

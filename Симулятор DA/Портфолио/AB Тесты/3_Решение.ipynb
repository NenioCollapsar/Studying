{
 "cells": [
  {
   "cell_type": "code",
   "execution_count": 113,
   "id": "e2b79282-1788-423f-9fe7-a914287f7586",
   "metadata": {},
   "outputs": [],
   "source": [
    "import pandahouse\n",
    "import scipy.stats as stats\n",
    "import numpy as np\n",
    "import pandas as pd"
   ]
  },
  {
   "cell_type": "code",
   "execution_count": 114,
   "id": "55a32470-c77b-4c01-8891-f784d41cb3e6",
   "metadata": {},
   "outputs": [],
   "source": [
    "# Подключаемся и извлекаем данные\n",
    "connection = {\n",
    "    'host': 'https://clickhouse.lab.karpov.courses',\n",
    "    'password': 'dpo_python_2020',\n",
    "    'user': 'student',\n",
    "    'database': 'simulator'\n",
    "}\n",
    "\n",
    "q_all = \"\"\"\n",
    "SELECT\n",
    "    exp_group,\n",
    "    user_id,\n",
    "    sum(action = 'like') AS likes,\n",
    "    sum(action = 'view') AS views\n",
    "FROM simulator_20250520.feed_actions\n",
    "WHERE\n",
    "    toDate(time) BETWEEN '2025-05-02' AND '2025-05-08'\n",
    "    AND exp_group IN (0, 1, 2, 3)\n",
    "GROUP BY\n",
    "    exp_group,\n",
    "    user_id\n",
    "HAVING\n",
    "    views > 0\n",
    "\"\"\"\n",
    "\n",
    "df = pandahouse.read_clickhouse(q_all, connection=connection)"
   ]
  },
  {
   "cell_type": "code",
   "execution_count": 115,
   "id": "f6eb0c30-c896-4e03-9a3b-e1331348b642",
   "metadata": {},
   "outputs": [
    {
     "data": {
      "text/html": [
       "<div>\n",
       "<style scoped>\n",
       "    .dataframe tbody tr th:only-of-type {\n",
       "        vertical-align: middle;\n",
       "    }\n",
       "\n",
       "    .dataframe tbody tr th {\n",
       "        vertical-align: top;\n",
       "    }\n",
       "\n",
       "    .dataframe thead th {\n",
       "        text-align: right;\n",
       "    }\n",
       "</style>\n",
       "<table border=\"1\" class=\"dataframe\">\n",
       "  <thead>\n",
       "    <tr style=\"text-align: right;\">\n",
       "      <th></th>\n",
       "      <th>exp_group</th>\n",
       "      <th>likes</th>\n",
       "      <th>views</th>\n",
       "    </tr>\n",
       "  </thead>\n",
       "  <tbody>\n",
       "    <tr>\n",
       "      <th>0</th>\n",
       "      <td>0</td>\n",
       "      <td>140714</td>\n",
       "      <td>670584</td>\n",
       "    </tr>\n",
       "    <tr>\n",
       "      <th>1</th>\n",
       "      <td>1</td>\n",
       "      <td>140339</td>\n",
       "      <td>669543</td>\n",
       "    </tr>\n",
       "    <tr>\n",
       "      <th>2</th>\n",
       "      <td>2</td>\n",
       "      <td>132056</td>\n",
       "      <td>659454</td>\n",
       "    </tr>\n",
       "    <tr>\n",
       "      <th>3</th>\n",
       "      <td>3</td>\n",
       "      <td>151327</td>\n",
       "      <td>668975</td>\n",
       "    </tr>\n",
       "  </tbody>\n",
       "</table>\n",
       "</div>"
      ],
      "text/plain": [
       "   exp_group   likes   views\n",
       "0          0  140714  670584\n",
       "1          1  140339  669543\n",
       "2          2  132056  659454\n",
       "3          3  151327  668975"
      ]
     },
     "execution_count": 115,
     "metadata": {},
     "output_type": "execute_result"
    }
   ],
   "source": [
    "agg = (df.groupby('exp_group')[['likes', 'views']].sum().reset_index())\n",
    "agg"
   ]
  },
  {
   "cell_type": "code",
   "execution_count": 116,
   "id": "d8567850-acbb-48d9-b43a-f8d963f15543",
   "metadata": {},
   "outputs": [],
   "source": [
    "def get_group_stats(df_agg: pd.DataFrame, group_id: int):\n",
    "    \"\"\"Возвращает (likes, views, ctr) для заданного exp_group.\"\"\"\n",
    "    row = df_agg[df_agg['exp_group'] == group_id]\n",
    "    likes = int(row['likes'].values[0])\n",
    "    views = int(row['views'].values[0])\n",
    "    ctr = likes / views\n",
    "    return likes, views, ctr"
   ]
  },
  {
   "cell_type": "code",
   "execution_count": 117,
   "id": "b050cf92-6e1d-41a7-b52d-3e3f05ef4593",
   "metadata": {},
   "outputs": [
    {
     "name": "stdout",
     "output_type": "stream",
     "text": [
      "Группа 0: likes_0 = 140714, views_0 = 670584, CTR_0 = 0.209838\n",
      "Группа 1: likes_1 = 140339, views_1 = 669543, CTR_1 = 0.209604\n",
      "Группа 2: likes_2 = 132056, views_2 = 659454, CTR_2 = 0.200251\n",
      "Группа 3: likes_3 = 151327, views_3 = 668975, CTR_3 = 0.226207\n"
     ]
    }
   ],
   "source": [
    "# Агрегированные CTR по группам (сырые CTR)\n",
    "likes0, views0, ctr0 = get_group_stats(agg, 0)\n",
    "likes1, views1, ctr1 = get_group_stats(agg, 1)\n",
    "likes2, views2, ctr2 = get_group_stats(agg, 2)\n",
    "likes3, views3, ctr3 = get_group_stats(agg, 3)\n",
    "print(f\"Группа 0: likes_0 = {likes0}, views_0 = {views0}, CTR_0 = {ctr0:.6f}\")\n",
    "print(f\"Группа 1: likes_1 = {likes1}, views_1 = {views1}, CTR_1 = {ctr1:.6f}\")\n",
    "print(f\"Группа 2: likes_2 = {likes2}, views_2 = {views2}, CTR_2 = {ctr2:.6f}\")\n",
    "print(f\"Группа 3: likes_3 = {likes3}, views_3 = {views3}, CTR_3 = {ctr3:.6f}\")"
   ]
  },
  {
   "cell_type": "code",
   "execution_count": 118,
   "id": "cc19b9af-c951-43f3-8d68-b1939918cd86",
   "metadata": {},
   "outputs": [
    {
     "data": {
      "text/plain": [
       "0.20983799195924746"
      ]
     },
     "execution_count": 118,
     "metadata": {},
     "output_type": "execute_result"
    }
   ],
   "source": [
    "CTR_control_03 = ctr0\n",
    "CTR_control_03"
   ]
  },
  {
   "cell_type": "code",
   "execution_count": 119,
   "id": "126e2d1e-3779-4263-b778-3a71664a136c",
   "metadata": {},
   "outputs": [],
   "source": [
    "df_lin_03 = df.copy()\n",
    "df_lin_03['linearized_likes'] = df_lin_03['likes'] - CTR_control_03 * df_lin_03['views']"
   ]
  },
  {
   "cell_type": "code",
   "execution_count": 120,
   "id": "0149209f-b67d-4eef-9b93-0fc0dc60641a",
   "metadata": {},
   "outputs": [],
   "source": [
    "lin0_03 = df_lin_03.loc[df_lin_03['exp_group'] == 0, 'linearized_likes']\n",
    "lin3_03 = df_lin_03.loc[df_lin_03['exp_group'] == 3, 'linearized_likes']"
   ]
  },
  {
   "cell_type": "code",
   "execution_count": 121,
   "id": "025acf81-17c7-4369-b558-317bc0043fe1",
   "metadata": {},
   "outputs": [
    {
     "name": "stdout",
     "output_type": "stream",
     "text": [
      "Размер выборок: |lin0| = 9920, |lin3| = 10002\n",
      "Среднее lin0 = 0.000000, std lin0 = 4.799474\n",
      "Среднее lin3 = 1.094844, std lin3 = 4.747220\n"
     ]
    }
   ],
   "source": [
    "print(f\"Размер выборок: |lin0| = {lin0_03.shape[0]}, |lin3| = {lin3_03.shape[0]}\")\n",
    "print(f\"Среднее lin0 = {lin0_03.mean():.6f}, std lin0 = {lin0_03.std(ddof=1):.6f}\")\n",
    "print(f\"Среднее lin3 = {lin3_03.mean():.6f}, std lin3 = {lin3_03.std(ddof=1):.6f}\")"
   ]
  },
  {
   "cell_type": "code",
   "execution_count": 122,
   "id": "a47e9e7c-5e62-458a-9855-7b918e5b866f",
   "metadata": {},
   "outputs": [
    {
     "name": "stdout",
     "output_type": "stream",
     "text": [
      "t-статистика = 16.1862, p-value = 1.491814e-58\n"
     ]
    }
   ],
   "source": [
    "t03, p_lin03 = stats.ttest_ind(lin3_03, lin0_03, equal_var=False)\n",
    "print(f\"t-статистика = {t03:.4f}, p-value = {p_lin03:.6e}\")"
   ]
  },
  {
   "cell_type": "code",
   "execution_count": null,
   "id": "775860c1-168b-4ee1-8a86-9247d2f61085",
   "metadata": {},
   "outputs": [
    {
     "name": "stdout",
     "output_type": "stream",
     "text": [
      "p < 0.05: есть статистически значимое отличие линеаризованных лайков. Группы 0 и 3\n"
     ]
    }
   ],
   "source": [
    "if p_lin03 < 0.05:\n",
    "    print(\"p < 0.05: есть статистически значимое отличие линеаризованных лайков. Группы 0 и 3\")\n",
    "else:\n",
    "    print(\"p >= 0.05: значимого отличия линеаризованных лайков нет. Группы 0 и 3\")"
   ]
  },
  {
   "cell_type": "markdown",
   "id": "9759ae98-2457-478c-9783-d0c52e2599eb",
   "metadata": {},
   "source": [
    "Вывод по паре 0 vs 3: Видно ли отличие? Да. Стало ли p-value меньше по сравнению с обычным CTR? Нет."
   ]
  },
  {
   "cell_type": "code",
   "execution_count": 124,
   "id": "9c1e336a-1805-4b14-9e64-d90af7b24ab2",
   "metadata": {},
   "outputs": [],
   "source": [
    "CTR_control_12 = ctr1"
   ]
  },
  {
   "cell_type": "code",
   "execution_count": 125,
   "id": "6c73489f-d306-4108-9188-009b7dab245e",
   "metadata": {},
   "outputs": [],
   "source": [
    "df_lin_12 = df.copy()\n",
    "df_lin_12['linearized_likes'] = df_lin_12['likes'] - CTR_control_12 * df_lin_12['views']"
   ]
  },
  {
   "cell_type": "code",
   "execution_count": 126,
   "id": "576062a2-7ed6-444a-9554-d13aa873c2fd",
   "metadata": {},
   "outputs": [],
   "source": [
    "lin1_12 = df_lin_12.loc[df_lin_12['exp_group'] == 1, 'linearized_likes']\n",
    "lin2_12 = df_lin_12.loc[df_lin_12['exp_group'] == 2, 'linearized_likes']"
   ]
  },
  {
   "cell_type": "code",
   "execution_count": 127,
   "id": "e8d19ce2-5c28-4924-bcf0-84defefcd8e8",
   "metadata": {},
   "outputs": [
    {
     "name": "stdout",
     "output_type": "stream",
     "text": [
      "Размер выборок: |lin1| = 10020, |lin2| = 9877\n",
      "Среднее lin1 = -0.000000, std lin1 = 4.685238\n",
      "Среднее lin2 = -0.624512, std lin2 = 9.363371\n"
     ]
    }
   ],
   "source": [
    "print(f\"Размер выборок: |lin1| = {lin1_12.shape[0]}, |lin2| = {lin2_12.shape[0]}\")\n",
    "print(f\"Среднее lin1 = {lin1_12.mean():.6f}, std lin1 = {lin1_12.std(ddof=1):.6f}\")\n",
    "print(f\"Среднее lin2 = {lin2_12.mean():.6f}, std lin2 = {lin2_12.std(ddof=1):.6f}\")"
   ]
  },
  {
   "cell_type": "code",
   "execution_count": 128,
   "id": "a9c0a7a9-b40c-403a-84e1-07a39089f6b4",
   "metadata": {},
   "outputs": [
    {
     "name": "stdout",
     "output_type": "stream",
     "text": [
      "t-статистика = -5.9364, p-value = 2.980506e-09\n"
     ]
    }
   ],
   "source": [
    "t12, p_lin12 = stats.ttest_ind(lin2_12, lin1_12, equal_var=False)\n",
    "print(f\"t-статистика = {t12:.4f}, p-value = {p_lin12:.6e}\")"
   ]
  },
  {
   "cell_type": "code",
   "execution_count": 129,
   "id": "48342cdf-03e9-4368-873d-638c19e3c569",
   "metadata": {},
   "outputs": [
    {
     "name": "stdout",
     "output_type": "stream",
     "text": [
      "p < 0.05: есть статистически значимое отличие линейрализованных лайков. Группы 1 и 2\n"
     ]
    }
   ],
   "source": [
    "if p_lin12 < 0.05:\n",
    "    print(\"p < 0.05: есть статистически значимое отличие линейрализованных лайков. Группы 1 и 2\")\n",
    "else:\n",
    "    print(\"p >= 0.05: значимого отличия линейрализованных лайков нет. Группы 1 и 2\")"
   ]
  },
  {
   "cell_type": "markdown",
   "id": "f8dd6216-5d68-4826-b150-c183de7e2005",
   "metadata": {},
   "source": [
    "Вывод по паре 1 vs 2: Видно ли отличие? Да. Стало ли p-value меньше по сравнению с обычным CTR? Нет."
   ]
  },
  {
   "cell_type": "code",
   "execution_count": 140,
   "id": "957f4371-ebdb-4d67-a40b-f3184c9f57b1",
   "metadata": {},
   "outputs": [
    {
     "name": "stdout",
     "output_type": "stream",
     "text": [
      "t-статистика (CTR группа 2 vs CTR группа 1) = -0.4051\n",
      "p-value                                      = 6.853733e-01\n"
     ]
    }
   ],
   "source": [
    "import pandahouse\n",
    "import pandas as pd\n",
    "from scipy.stats import ttest_ind\n",
    "\n",
    "# =============================================================================\n",
    "# 1. Подключаемся к ClickHouse и вытягиваем raw-данные по группам 1 и 2\n",
    "# =============================================================================\n",
    "\n",
    "connection = {\n",
    "    'host': 'https://clickhouse.lab.karpov.courses',\n",
    "    'password': 'dpo_python_2020',\n",
    "    'user': 'student',\n",
    "    'database': 'simulator'\n",
    "}\n",
    "\n",
    "q_12 = \"\"\"\n",
    "SELECT\n",
    "    exp_group,\n",
    "    user_id,\n",
    "    sum(action = 'like')  AS likes,\n",
    "    sum(action = 'view')  AS views\n",
    "FROM simulator_20250520.feed_actions\n",
    "WHERE\n",
    "    toDate(time) BETWEEN '2025-05-02' AND '2025-05-08'\n",
    "    AND exp_group IN (1, 2)\n",
    "GROUP BY\n",
    "    exp_group,\n",
    "    user_id\n",
    "HAVING\n",
    "    views > 0\n",
    "\"\"\"\n",
    "\n",
    "df_12 = pandahouse.read_clickhouse(q_12, connection=connection)\n",
    "\n",
    "# =============================================================================\n",
    "# 2. Считаем per-user CTR = likes / views\n",
    "# =============================================================================\n",
    "\n",
    "df_12['ctr'] = df_12['likes'] / df_12['views']\n",
    "\n",
    "# =============================================================================\n",
    "# 3. Отдельно выбираем два массива CTR по группам 1 и 2\n",
    "# =============================================================================\n",
    "\n",
    "ctr1 = df_12.loc[df_12['exp_group'] == 1, 'ctr']\n",
    "ctr2 = df_12.loc[df_12['exp_group'] == 2, 'ctr']\n",
    "\n",
    "# =============================================================================\n",
    "# 4. Выполняем Welch’s t-test для двух несвязанных выборок\n",
    "# =============================================================================\n",
    "\n",
    "t_stat, p_value = ttest_ind(ctr2, ctr1, equal_var=False)\n",
    "\n",
    "print(f\"t-статистика (CTR группа 2 vs CTR группа 1) = {t_stat:.4f}\")\n",
    "print(f\"p-value                                      = {p_value:.6e}\")\n"
   ]
  }
 ],
 "metadata": {
  "kernelspec": {
   "display_name": "Python 3 (ipykernel)",
   "language": "python",
   "name": "python3"
  },
  "language_info": {
   "codemirror_mode": {
    "name": "ipython",
    "version": 3
   },
   "file_extension": ".py",
   "mimetype": "text/x-python",
   "name": "python",
   "nbconvert_exporter": "python",
   "pygments_lexer": "ipython3",
   "version": "3.8.10"
  }
 },
 "nbformat": 4,
 "nbformat_minor": 5
}

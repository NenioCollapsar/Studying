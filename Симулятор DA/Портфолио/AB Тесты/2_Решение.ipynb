{
 "cells": [
  {
   "cell_type": "code",
   "execution_count": 113,
   "id": "8fffea0c-f1d7-471d-8944-5c011df71292",
   "metadata": {},
   "outputs": [],
   "source": [
    "import pandahouse\n",
    "import seaborn as sns\n",
    "import scipy.stats as stats\n",
    "import numpy as np"
   ]
  },
  {
   "cell_type": "code",
   "execution_count": 114,
   "id": "6147ec56-a0af-4b68-8242-b4088d02dde9",
   "metadata": {},
   "outputs": [],
   "source": [
    "# Подключаемся и извлекаем данные\n",
    "connection = {\n",
    "    'host': 'https://clickhouse.lab.karpov.courses',\n",
    "    'password': 'dpo_python_2020',\n",
    "    'user': 'student',\n",
    "    'database': 'simulator'\n",
    "}\n",
    "\n",
    "q = \"\"\"\n",
    "SELECT\n",
    "    exp_group,\n",
    "    user_id,\n",
    "    sum(action = 'like') AS likes,\n",
    "    sum(action = 'view') AS views,\n",
    "    likes / NULLIF(views, 0) AS ctr\n",
    "FROM simulator_20250520.feed_actions\n",
    "WHERE\n",
    "    toDate(time) BETWEEN '2025-05-02' AND '2025-05-08'\n",
    "  AND exp_group IN (1, 2)\n",
    "GROUP BY\n",
    "    exp_group,\n",
    "    user_id\n",
    "HAVING\n",
    "    views > 0\n",
    "\"\"\"\n",
    "\n",
    "df = pandahouse.read_clickhouse(q, connection=connection)"
   ]
  },
  {
   "cell_type": "code",
   "execution_count": 115,
   "id": "451d8430-3279-4f32-af7e-d407ef18be50",
   "metadata": {},
   "outputs": [
    {
     "data": {
      "text/plain": [
       "Ttest_indResult(statistic=0.4051491913112757, pvalue=0.685373331140751)"
      ]
     },
     "execution_count": 115,
     "metadata": {},
     "output_type": "execute_result"
    }
   ],
   "source": [
    "#T-тест\n",
    "stats.ttest_ind(df[df.exp_group == 1].ctr,\n",
    "                df[df.exp_group == 2].ctr,\n",
    "                equal_var=False)"
   ]
  },
  {
   "cell_type": "markdown",
   "id": "1d0e49ca-a71c-44df-8d59-b4f5b5324371",
   "metadata": {},
   "source": [
    "p-value примерно 0.685, что > 0.05. Следовательно, на основании T-теста мы не отвергаем нулевую гипотезу (нет статистически значимого различия в средних CTR между группой 1 и группой 2)"
   ]
  },
  {
   "cell_type": "code",
   "execution_count": 117,
   "id": "12cb6efc-9be1-417e-817f-ad6c70627d69",
   "metadata": {},
   "outputs": [
    {
     "data": {
      "image/png": "[encoded data removed]",
      "text/plain": [
       "<Figure size 432x288 with 1 Axes>"
      ]
     },
     "metadata": {
      "needs_background": "light"
     },
     "output_type": "display_data"
    }
   ],
   "source": [
    "# Смотрим гистограмму\n",
    "groups = sns.histplot(data = df, \n",
    "              x='ctr', \n",
    "              hue='exp_group', \n",
    "              palette = ['r', 'b'],\n",
    "              alpha=0.5,\n",
    "              kde=False)"
   ]
  },
  {
   "cell_type": "markdown",
   "id": "87bb1d7b-3c58-4a1f-8685-061e54274252",
   "metadata": {},
   "source": [
    "Из гистограммы видно, что: участники контрольной группы (группа 1) в среднем имеют более высокий CTR, чем участники экспериментальной (группа 2). Но сильное перекрытие распределений говорит о том, что отличия не являются радикальными: многие пользователи из группы 2 показывают такие же или даже лучшие CTR, чем часть пользователей из группы 1. Распределения асимметричны, и есть смещение \"длинного правого хвоста\"."
   ]
  },
  {
   "cell_type": "code",
   "execution_count": 119,
   "id": "f9023d00-2431-4ba4-b2ec-2ead9aba8628",
   "metadata": {},
   "outputs": [
    {
     "data": {
      "text/plain": [
       "MannwhitneyuResult(statistic=55189913.0, pvalue=4.632205841806026e-45)"
      ]
     },
     "execution_count": 119,
     "metadata": {},
     "output_type": "execute_result"
    }
   ],
   "source": [
    "# тест Манна-Уитни\n",
    "stats.mannwhitneyu(df[df.exp_group == 1].ctr, \n",
    "                   df[df.exp_group == 2].ctr,\n",
    "                   alternative = 'two-sided')"
   ]
  },
  {
   "cell_type": "markdown",
   "id": "5c616e05-5d60-4810-a0fc-a8905ca0484e",
   "metadata": {},
   "source": [
    "Если бы распределения CTR в двух группах на самом деле были одинаковы, то шанс получить такое различие в рангах (U-статистика) около 4·10^(-45), то есть практически равен нулю. Следовательно, мы отвергаем нулевую гипотезу H0 о равенстве распределений. То есть распределения CTR в группах 1 и 2 статистически различаются. Учитывая, что на гистограмме выше мы увидели, что у группы 1 пик около 0.20–0.30, а у группы 2 — около 0.10–0.20, Манн-Уитни подтверждает, что в большинстве случаев значение CTR в группе 1 действительно больше, чем значение CTR в группе 2."
   ]
  },
  {
   "cell_type": "code",
   "execution_count": 121,
   "id": "89aaaa89-3761-4f83-a5a4-e22d8063045d",
   "metadata": {},
   "outputs": [
    {
     "name": "stdout",
     "output_type": "stream",
     "text": [
      "В 55.01 % случаев A > B. Должно получиться около 50%\n"
     ]
    }
   ],
   "source": [
    "A_gt_B = 0\n",
    "for _ in range(10000):\n",
    "    A_gt_B+= df[df.exp_group == 1].ctr.sample().values[0] > df[df.exp_group == 2].ctr.sample().values[0]\n",
    "    \n",
    "print('В', A_gt_B/100, '% случаев A > B. Должно получиться около 50%')"
   ]
  },
  {
   "cell_type": "markdown",
   "id": "5a5ebf72-0520-42dc-a38f-34692798a515",
   "metadata": {},
   "source": [
    "То есть контрольная группа (1) \"выигрывает\" по CTR чаще, чем экспериментальная (2)."
   ]
  },
  {
   "cell_type": "code",
   "execution_count": 123,
   "id": "a71846f9-6773-4567-a777-27efd0c154d3",
   "metadata": {},
   "outputs": [],
   "source": [
    "def get_smothed_ctr(user_likes, user_views, global_ctr, alpha=5):\n",
    "    smothed_ctr = (user_likes + alpha * global_ctr) / (user_views + alpha)\n",
    "    return smothed_ctr"
   ]
  },
  {
   "cell_type": "code",
   "execution_count": 124,
   "id": "69d1925a-9d97-40eb-8448-22438883a92d",
   "metadata": {},
   "outputs": [
    {
     "data": {
      "text/plain": [
       "<Axes: xlabel='ctr', ylabel='Count'>"
      ]
     },
     "execution_count": 124,
     "metadata": {},
     "output_type": "execute_result"
    },
    {
     "data": {
      "image/png": "[encoded data removed]",
      "text/plain": [
       "<Figure size 432x288 with 1 Axes>"
      ]
     },
     "metadata": {
      "needs_background": "light"
     },
     "output_type": "display_data"
    }
   ],
   "source": [
    "global_ctr_1 = df[df.exp_group == 1].likes.sum()/df[df.exp_group == 1].views.sum()\n",
    "global_ctr_2 = df[df.exp_group == 2].likes.sum()/df[df.exp_group == 2].views.sum()\n",
    "\n",
    "group1 = df[df.exp_group == 1].copy()\n",
    "sns.histplot(group1.ctr, \n",
    "             kde = False)\n",
    "\n",
    "group2 = df[df.exp_group == 2].copy()\n",
    "sns.histplot(group2.ctr, \n",
    "             kde = False)"
   ]
  },
  {
   "cell_type": "code",
   "execution_count": 125,
   "id": "56889935-f661-4810-913a-9f9c50f7ae9f",
   "metadata": {},
   "outputs": [
    {
     "data": {
      "text/plain": [
       "<Axes: xlabel='smothed_ctr', ylabel='Count'>"
      ]
     },
     "execution_count": 125,
     "metadata": {},
     "output_type": "execute_result"
    },
    {
     "data": {
      "image/png": "[encoded data removed]",
      "text/plain": [
       "<Figure size 432x288 with 1 Axes>"
      ]
     },
     "metadata": {
      "needs_background": "light"
     },
     "output_type": "display_data"
    }
   ],
   "source": [
    "group1['smothed_ctr'] = df.apply(\n",
    "    lambda x: get_smothed_ctr(x['likes'], x['views'], global_ctr_1, 5), axis=1)\n",
    "\n",
    "group2['smothed_ctr'] = df.apply(\n",
    "    lambda x: get_smothed_ctr(x['likes'], x['views'], global_ctr_2, 5), axis=1)\n",
    "\n",
    "sns.histplot(group1.smothed_ctr, \n",
    "             kde = False)\n",
    "sns.histplot(group2.smothed_ctr, \n",
    "             kde = False)"
   ]
  },
  {
   "cell_type": "markdown",
   "id": "d0e0ae6d-367f-4944-8a2c-8042551c2bf6",
   "metadata": {},
   "source": [
    "После \"сглаженного\" CTR контрольная группа уверенно показывает более высокие значения, а экспериментальная - более низкие. Сглаживание лишь подтверждает, что это не артефакт \"мелких\" пользователей с 1–2 просмотрами, а действительно устойчивая закономерность."
   ]
  },
  {
   "cell_type": "code",
   "execution_count": 127,
   "id": "a19cfac5-dfad-4b30-8886-910dd246a9a5",
   "metadata": {},
   "outputs": [
    {
     "data": {
      "text/plain": [
       "Ttest_indResult(statistic=0.4051491913112757, pvalue=0.685373331140751)"
      ]
     },
     "execution_count": 127,
     "metadata": {},
     "output_type": "execute_result"
    }
   ],
   "source": [
    "# t-тест на сглаженном ctr\n",
    "stats.ttest_ind(group1.ctr,\n",
    "                group2.ctr,\n",
    "                equal_var=False)"
   ]
  },
  {
   "cell_type": "markdown",
   "id": "f2e866ee-2f33-41b8-a41b-dd311d4627a1",
   "metadata": {},
   "source": [
    "Параметрический t-тест по сглаженным данным по-прежнему не находит статистически значимого различия между средними сглаженными CTR."
   ]
  },
  {
   "cell_type": "code",
   "execution_count": 129,
   "id": "1d045a2c-46d6-4e64-8d44-4cf04f55117f",
   "metadata": {},
   "outputs": [],
   "source": [
    "# Пуассоновский бутстреп\n",
    "def bootstrap(likes1, views1, likes2, views2, n_bootstrap=2000):\n",
    "    poisson_bootstraps1 = stats.poisson(1).rvs(\n",
    "        (n_bootstrap, len(likes1))).astype(np.int64)\n",
    "    poisson_bootstraps2 = stats.poisson(1).rvs(\n",
    "            (n_bootstrap, len(likes2))).astype(np.int64)\n",
    "    globalCTR1 = (poisson_bootstraps1*likes1).sum(axis=1)/(poisson_bootstraps1*views1).sum(axis=1)\n",
    "    globalCTR2 = (poisson_bootstraps2*likes2).sum(axis=1)/(poisson_bootstraps2*views2).sum(axis=1)\n",
    "    return globalCTR1, globalCTR2"
   ]
  },
  {
   "cell_type": "code",
   "execution_count": 130,
   "id": "09775530-000a-418c-b02d-0c298e169fd8",
   "metadata": {},
   "outputs": [],
   "source": [
    "likes1 = df[df.exp_group == 1].likes.to_numpy()\n",
    "views1 = df[df.exp_group == 1].views.to_numpy()\n",
    "likes2 = df[df.exp_group == 2].likes.to_numpy()\n",
    "views2 = df[df.exp_group == 2].views.to_numpy()"
   ]
  },
  {
   "cell_type": "code",
   "execution_count": 131,
   "id": "554234a1-eaec-4466-ad87-df9e5c85d229",
   "metadata": {},
   "outputs": [
    {
     "data": {
      "text/plain": [
       "<Axes: ylabel='Count'>"
      ]
     },
     "execution_count": 131,
     "metadata": {},
     "output_type": "execute_result"
    },
    {
     "data": {
      "image/png": "[encoded data removed]",
      "text/plain": [
       "<Figure size 432x288 with 1 Axes>"
      ]
     },
     "metadata": {
      "needs_background": "light"
     },
     "output_type": "display_data"
    }
   ],
   "source": [
    "ctr1, ctr2 = bootstrap(likes1, views1, likes2, views2)\n",
    "\n",
    "sns.histplot(ctr1)\n",
    "sns.histplot(ctr2)"
   ]
  },
  {
   "cell_type": "markdown",
   "id": "ecbee615-b8e9-4925-bf30-472150039706",
   "metadata": {},
   "source": [
    "В бутстреп-попытках глобальный CTR для A (контроль) оказывается выше, чем для B (эксперимент)."
   ]
  },
  {
   "cell_type": "code",
   "execution_count": 133,
   "id": "ca1943c8-8ae9-46dc-ba7d-0e2aa372bbc2",
   "metadata": {},
   "outputs": [
    {
     "data": {
      "text/plain": [
       "<Axes: ylabel='Count'>"
      ]
     },
     "execution_count": 133,
     "metadata": {},
     "output_type": "execute_result"
    },
    {
     "data": {
      "image/png": "[encoded data removed]",
      "text/plain": [
       "<Figure size 432x288 with 1 Axes>"
      ]
     },
     "metadata": {
      "needs_background": "light"
     },
     "output_type": "display_data"
    }
   ],
   "source": [
    "#Разница между глобальными CTR\n",
    "sns.histplot(ctr1 - ctr2)"
   ]
  },
  {
   "cell_type": "markdown",
   "id": "b9e4f386-b9d9-493e-81a4-712399daedf1",
   "metadata": {},
   "source": [
    "С вероятностью близкой к 100% глобальный CTR группы A выше глобального CTR группы B."
   ]
  },
  {
   "cell_type": "code",
   "execution_count": 135,
   "id": "c67c1e81-dc2e-4e53-b975-b441a00005b2",
   "metadata": {},
   "outputs": [],
   "source": [
    "qBucket = \"\"\"\n",
    "\n",
    "SELECT exp_group, bucket,\n",
    "    sum(likes)/sum(views) as bucket_ctr,\n",
    "    quantileExact(0.9)(ctr) as ctr9\n",
    "FROM (SELECT exp_group, \n",
    "        xxHash64(user_id)%50 as bucket,\n",
    "        user_id,\n",
    "        sum(action = 'like') as likes,\n",
    "        sum(action = 'view') as views,\n",
    "        likes/views as ctr\n",
    "    FROM simulator_20250520.feed_actions\n",
    "    WHERE toDate(time) between '2025-05-02' and '2025-05-08'\n",
    "        and exp_group in (1,2)\n",
    "    GROUP BY exp_group, bucket, user_id)\n",
    "GROUP BY exp_group, bucket\n",
    "\"\"\"\n",
    "\n",
    "dfBucket = pandahouse.read_clickhouse(qBucket, connection=connection)"
   ]
  },
  {
   "cell_type": "code",
   "execution_count": 136,
   "id": "1bb7c120-bb63-450d-ac51-7159000ca749",
   "metadata": {},
   "outputs": [
    {
     "data": {
      "text/plain": [
       "MannwhitneyuResult(statistic=1997.0, pvalue=2.6576427804010095e-07)"
      ]
     },
     "execution_count": 136,
     "metadata": {},
     "output_type": "execute_result"
    }
   ],
   "source": [
    "# тест Манна-Уитни поверх бакетного преобразования\n",
    "stats.mannwhitneyu(dfBucket[dfBucket.exp_group == 1].bucket_ctr, \n",
    "                   dfBucket[dfBucket.exp_group == 2].bucket_ctr, \n",
    "                   alternative = 'two-sided')"
   ]
  },
  {
   "cell_type": "markdown",
   "id": "8827f011-3683-4258-a4a4-134fe6327c97",
   "metadata": {},
   "source": [
    "Сигнал о том, что распределения bucket_ctr в группах 1 и 2 сильно отличаются. Контрольная группа (exp_group = 1) выигрывает по бакетному CTR - её корзины чаще имеют вышее значение CTR, чем корзины из экспериментальной группы."
   ]
  },
  {
   "cell_type": "code",
   "execution_count": 138,
   "id": "b2d2b731-d7df-4c13-90fe-cfc3a8c458fb",
   "metadata": {},
   "outputs": [
    {
     "data": {
      "text/plain": [
       "Ttest_indResult(statistic=5.614819358149381, pvalue=4.592644937473873e-07)"
      ]
     },
     "execution_count": 138,
     "metadata": {},
     "output_type": "execute_result"
    }
   ],
   "source": [
    "# t-тест поверх бакетного преобразования\n",
    "stats.ttest_ind(dfBucket[dfBucket.exp_group == 1].bucket_ctr, \n",
    "                   dfBucket[dfBucket.exp_group == 2].bucket_ctr, \n",
    "                   equal_var = False)"
   ]
  },
  {
   "cell_type": "markdown",
   "id": "09a6002b-2c11-4935-844f-2828a4249bad",
   "metadata": {},
   "source": [
    "Параметрический t-тест на бакетах показывает, что средние агрегированные CTR (bucket_ctr) контрольной и экспериментальной групп статистически значимо отличаются. И поскольку t-статистика положительна (примерно 5.6), это говорит в пользу того, что средний bucket_ctr из контрольных корзин выше, чем средний bucket_ctr из экспериментальных корзин."
   ]
  },
  {
   "cell_type": "code",
   "execution_count": 140,
   "id": "eb9408c6-61ea-4432-bae0-40eb39af5353",
   "metadata": {},
   "outputs": [
    {
     "data": {
      "text/plain": [
       "<Axes: xlabel='bucket_ctr', ylabel='Count'>"
      ]
     },
     "execution_count": 140,
     "metadata": {},
     "output_type": "execute_result"
    },
    {
     "data": {
      "image/png": "[encoded data removed]",
      "text/plain": [
       "<Figure size 432x288 with 1 Axes>"
      ]
     },
     "metadata": {
      "needs_background": "light"
     },
     "output_type": "display_data"
    }
   ],
   "source": [
    "sns.histplot(dfBucket[dfBucket.exp_group == 1].bucket_ctr)\n",
    "sns.histplot(dfBucket[dfBucket.exp_group == 2].bucket_ctr)"
   ]
  },
  {
   "cell_type": "markdown",
   "id": "414f616b-596a-4ab2-8d34-6fba02e74a03",
   "metadata": {},
   "source": [
    "В большинстве бакетов контрольная группа устойчиво показывает чуть более высокий средний CTR (примерно 0.21)"
   ]
  },
  {
   "cell_type": "code",
   "execution_count": 142,
   "id": "cdfb368d-d3c1-481b-9444-0b2735e89e6f",
   "metadata": {},
   "outputs": [
    {
     "data": {
      "text/plain": [
       "<Axes: xlabel='ctr9', ylabel='Count'>"
      ]
     },
     "execution_count": 142,
     "metadata": {},
     "output_type": "execute_result"
    },
    {
     "data": {
      "image/png": "[encoded data removed]",
      "text/plain": [
       "<Figure size 432x288 with 1 Axes>"
      ]
     },
     "metadata": {
      "needs_background": "light"
     },
     "output_type": "display_data"
    }
   ],
   "source": [
    "sns.histplot(dfBucket[dfBucket.exp_group == 1].ctr9)\n",
    "sns.histplot(dfBucket[dfBucket.exp_group == 2].ctr9)"
   ]
  },
  {
   "cell_type": "markdown",
   "id": "e0788b7e-047b-4739-b909-882b1803179f",
   "metadata": {},
   "source": [
    "В контрольных корзинах даже самые активные 10% показывают максимальную глубокую эффективность не выше примерно 0.33. В экспериментальных корзинах самые активные 10% пользователей гораздо более лайкоориентированы и достигают CTR практически 0.40–0.42. Хотя в среднем эксперимент отстаёт, в топ-10% своего бакета (то есть среди наиболее затейливых читателей) экспериментальный алгоритм выдаёт куда более высокие CTR, чем контрольный."
   ]
  },
  {
   "cell_type": "markdown",
   "id": "f0355ad9-ceac-4c93-8785-99c318f4deec",
   "metadata": {},
   "source": [
    "Следовательно в \"середине\" пользовательской базы контрольная группа выигрывает по среднему CTR, а в топе самых активных 10% экспериментальная группа даёт существенно более высокий CTR."
   ]
  },
  {
   "cell_type": "markdown",
   "id": "0350e832-d178-41ea-92ac-bedcdbd0020b",
   "metadata": {},
   "source": [
    "В среднем по всем пользователям эксперимент снижает CTR, но для самой активной десятки (топ 10%) новый алгоритм даёт куда более высокие значения CTR, чем контроль."
   ]
  },
  {
   "cell_type": "markdown",
   "id": "60f0c63d-4745-4b16-899f-370b1721548d",
   "metadata": {},
   "source": [
    "Ответы на последние 2 вопроса и итог: запускать новый алгоритм на всех не стоит, поскольку средний CTR упадёт. Но экспериментальный алгоритм имеет потенциал для \"выжимания\" высокоактивных пользователей, поэтому есть смысл тестировать/внедрить его селективно (либо доработать так, чтобы он давал хоть такой же средний CTR, как контроль, одновременно удерживая и топ). Таким образом, проделанный анализ оказался комплексным, многослойным и позволил не только увидеть статистически значимую разницу CTR, но и понять, как именно новый алгоритм работает на разные подгруппы пользователей. Это позволяет сформулировать адекватную стратегию по дальнейшему внедрению (сегментированное или дополнительное дообучение), а не слепо переключать всю базу под новую логику рекомендаций."
   ]
  }
 ],
 "metadata": {
  "kernelspec": {
   "display_name": "Python 3 (ipykernel)",
   "language": "python",
   "name": "python3"
  },
  "language_info": {
   "codemirror_mode": {
    "name": "ipython",
    "version": 3
   },
   "file_extension": ".py",
   "mimetype": "text/x-python",
   "name": "python",
   "nbconvert_exporter": "python",
   "pygments_lexer": "ipython3",
   "version": "3.8.10"
  }
 },
 "nbformat": 4,
 "nbformat_minor": 5
}

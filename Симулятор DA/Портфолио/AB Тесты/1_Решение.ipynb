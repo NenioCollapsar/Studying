{
 "cells": [
  {
   "cell_type": "code",
   "execution_count": 64,
   "id": "5bfe5f0b-2d31-488d-bce0-b6cde7e86944",
   "metadata": {},
   "outputs": [],
   "source": [
    "import hashlib\n",
    "import pandahouse\n",
    "import swifter               \n",
    "import scipy.stats as stats \n",
    "import numpy as np\n",
    "import pandas as pd\n",
    "import random\n",
    "import matplotlib.pyplot as plt\n",
    "import seaborn as sns"
   ]
  },
  {
   "cell_type": "code",
   "execution_count": 65,
   "id": "15f936a1-fac2-4a31-9921-b1e1502bacd1",
   "metadata": {},
   "outputs": [],
   "source": [
    "connection = {\n",
    "    'host': 'https://clickhouse.lab.karpov.courses',\n",
    "    'password': 'dpo_python_2020',\n",
    "    'user': 'student',\n",
    "    'database': 'simulator'\n",
    "}"
   ]
  },
  {
   "cell_type": "code",
   "execution_count": 66,
   "id": "a15e977f-9554-4ac6-83a1-980be47add53",
   "metadata": {},
   "outputs": [],
   "source": [
    "def ab_split(id, salt='exp_mess_1', n_groups=5):\n",
    "    test_id = str(id) + '-' + str(salt)\n",
    "    test_id_digest = hashlib.md5(test_id.encode('ascii')).hexdigest()\n",
    "    test_id_final_int = int(test_id_digest, 16)\n",
    "    return test_id_final_int % n_groups"
   ]
  },
  {
   "cell_type": "code",
   "execution_count": 67,
   "id": "e01f8b95-d1d2-4fe5-94d7-55dbc42b54e7",
   "metadata": {},
   "outputs": [],
   "source": [
    "query_users = \"\"\"\n",
    "SELECT DISTINCT user_id\n",
    "FROM simulator_20250520.feed_actions\n",
    "WHERE toDate(time) >= '2025-04-25'\n",
    "  AND toDate(time) <= '2025-05-01'\n",
    "\"\"\"\n",
    "\n",
    "users_df = pandahouse.read_clickhouse(query_users, connection=connection)"
   ]
  },
  {
   "cell_type": "code",
   "execution_count": 68,
   "id": "9adb939a-dd8e-45de-90b0-30e1430feeb1",
   "metadata": {},
   "outputs": [
    {
     "data": {
      "application/json": {
       "ascii": false,
       "bar_format": null,
       "colour": null,
       "elapsed": 0.02673935890197754,
       "initial": 0,
       "n": 0,
       "ncols": null,
       "nrows": null,
       "postfix": null,
       "prefix": "Pandas Apply",
       "rate": null,
       "total": 41997,
       "unit": "it",
       "unit_divisor": 1000,
       "unit_scale": false
      },
      "application/vnd.jupyter.widget-view+json": {
       "model_id": "fdafabac769348688b4cdcf5c480b07b",
       "version_major": 2,
       "version_minor": 0
      },
      "text/plain": [
       "Pandas Apply:   0%|          | 0/41997 [00:00<?, ?it/s]"
      ]
     },
     "metadata": {},
     "output_type": "display_data"
    }
   ],
   "source": [
    "users_df['hash_group'] = users_df['user_id'].swifter.apply(ab_split)"
   ]
  },
  {
   "cell_type": "code",
   "execution_count": 69,
   "id": "8d037f3e-5a82-4fc6-a904-a9966db76cce",
   "metadata": {},
   "outputs": [
    {
     "name": "stdout",
     "output_type": "stream",
     "text": [
      "Число пользователей в каждой hash_group (0–4):\n",
      "   hash_group  user_id\n",
      "0           0     8588\n",
      "1           1     8254\n",
      "2           2     8397\n",
      "3           3     8305\n",
      "4           4     8453\n"
     ]
    }
   ],
   "source": [
    "counts_by_group = users_df.groupby('hash_group')['user_id'].nunique().reset_index()\n",
    "print(\"Число пользователей в каждой hash_group (0–4):\")\n",
    "print(counts_by_group)"
   ]
  },
  {
   "cell_type": "code",
   "execution_count": 70,
   "id": "f5073c42-a3c8-43c8-a891-412c51b13091",
   "metadata": {},
   "outputs": [],
   "source": [
    "query_ctr = \"\"\"\n",
    "SELECT\n",
    "    user_id,\n",
    "    SUM(if(action = 'view', 1, 0))   AS views,\n",
    "    SUM(if(action = 'like', 1, 0))  AS likes,\n",
    "    CASE\n",
    "        WHEN SUM(if(action = 'view', 1, 0)) = 0 THEN 0.0\n",
    "        ELSE toFloat64(SUM(if(action = 'like', 1, 0))) \n",
    "             / toFloat64(SUM(if(action = 'view', 1, 0)))\n",
    "    END AS ctr\n",
    "FROM simulator_20250520.feed_actions\n",
    "WHERE toDate(time) BETWEEN '2025-04-25' AND '2025-05-01'\n",
    "GROUP BY user_id\n",
    "\"\"\"\n",
    "\n",
    "ctr_df = pandahouse.read_clickhouse(query_ctr, connection=connection)"
   ]
  },
  {
   "cell_type": "code",
   "execution_count": 71,
   "id": "79e70b1d-519e-4567-aac6-48e88f8bac72",
   "metadata": {},
   "outputs": [],
   "source": [
    "ctr_df = ctr_df.set_index('user_id')"
   ]
  },
  {
   "cell_type": "code",
   "execution_count": 72,
   "id": "2ae03373-a3e3-48d3-89ae-5bbfc039cae0",
   "metadata": {},
   "outputs": [
    {
     "name": "stdout",
     "output_type": "stream",
     "text": [
      "\n",
      "Несколько строк из ctr_df (user_id, views, likes, ctr):\n",
      "         views  likes       ctr\n",
      "user_id                        \n",
      "13289       32      2  0.062500\n",
      "121096      57     12  0.210526\n",
      "5090        14      2  0.142857\n",
      "129283      80     23  0.287500\n",
      "4394        54     25  0.462963\n"
     ]
    }
   ],
   "source": [
    "print(\"\\nНесколько строк из ctr_df (user_id, views, likes, ctr):\")\n",
    "print(ctr_df.head())"
   ]
  },
  {
   "cell_type": "code",
   "execution_count": 73,
   "id": "e5b20ee4-5df1-46ce-a5ed-d85fcabe376d",
   "metadata": {},
   "outputs": [
    {
     "name": "stdout",
     "output_type": "stream",
     "text": [
      "\n",
      "Всего в группе 2 пользователей: 8397\n",
      "Всего в группе 3 пользователей: 8305\n"
     ]
    }
   ],
   "source": [
    "group2_ids_all = users_df.loc[users_df['hash_group'] == 2, 'user_id'].values\n",
    "group3_ids_all = users_df.loc[users_df['hash_group'] == 3, 'user_id'].values\n",
    "print(f\"\\nВсего в группе 2 пользователей: {len(group2_ids_all)}\")\n",
    "print(f\"Всего в группе 3 пользователей: {len(group3_ids_all)}\")"
   ]
  },
  {
   "cell_type": "code",
   "execution_count": 74,
   "id": "79aada5f-efcd-416f-b746-1de522f1f842",
   "metadata": {},
   "outputs": [],
   "source": [
    "n_iterations = 10000\n",
    "all_pvalues = []"
   ]
  },
  {
   "cell_type": "code",
   "execution_count": 75,
   "id": "1b7d0b6f-0c47-4c46-801d-6b000fa4c0ee",
   "metadata": {},
   "outputs": [],
   "source": [
    "for i in range(n_iterations):\n",
    "    sampled_2 = np.random.choice(group2_ids_all, size=500, replace=False)\n",
    "    sampled_3 = np.random.choice(group3_ids_all, size=500, replace=False)\n",
    "    tmp2 = pd.DataFrame({'user_id': sampled_2})\n",
    "    tmp3 = pd.DataFrame({'user_id': sampled_3})\n",
    "    ctr_group2 = (tmp2.join(ctr_df[['ctr']], on='user_id', how='left').fillna(0.0)['ctr'])\n",
    "    ctr_group3 = (tmp3.join(ctr_df[['ctr']], on='user_id', how='left').fillna(0.0)['ctr'])\n",
    "    assert len(ctr_group2) == 500\n",
    "    assert len(ctr_group3) == 500\n",
    "    t_stat, p_val = stats.ttest_ind(ctr_group2, ctr_group3, equal_var=False)\n",
    "    all_pvalues.append(p_val)"
   ]
  },
  {
   "cell_type": "code",
   "execution_count": 76,
   "id": "83affed5-5fdd-4b12-957e-7a699dcd626f",
   "metadata": {},
   "outputs": [
    {
     "name": "stdout",
     "output_type": "stream",
     "text": [
      "\n",
      "Из 10000 A/A-тестов доля случаев, когда p-value < 0.05: 0.0458\n"
     ]
    }
   ],
   "source": [
    "all_pvalues = np.array(all_pvalues)\n",
    "share_below_005 = np.mean(all_pvalues < 0.05)\n",
    "print(f\"\\nИз {n_iterations} A/A-тестов доля случаев, когда p-value < 0.05: {share_below_005:.4f}\")"
   ]
  },
  {
   "cell_type": "code",
   "execution_count": 79,
   "id": "e17664e2-1bdc-4882-91af-1e393cf6f432",
   "metadata": {},
   "outputs": [
    {
     "data": {
      "image/png": "[encoded data removed]",
      "text/plain": [
       "<Figure size 432x288 with 1 Axes>"
      ]
     },
     "metadata": {
      "needs_background": "light"
     },
     "output_type": "display_data"
    }
   ],
   "source": [
    "plt.figure(figsize=(6, 4))\n",
    "plt.hist(all_pvalues, bins=50, edgecolor='k')\n",
    "plt.axvline(0.05, color='red', linestyle='--', label='p = 0.05')\n",
    "plt.title(\"Распределение p-value в 10000 A/A-тестах\")\n",
    "plt.xlabel(\"p-value\")\n",
    "plt.ylabel(\"Количество итераций\")\n",
    "plt.legend()\n",
    "plt.tight_layout()\n",
    "plt.show()"
   ]
  }
 ],
 "metadata": {
  "kernelspec": {
   "display_name": "Python 3 (ipykernel)",
   "language": "python",
   "name": "python3"
  },
  "language_info": {
   "codemirror_mode": {
    "name": "ipython",
    "version": 3
   },
   "file_extension": ".py",
   "mimetype": "text/x-python",
   "name": "python",
   "nbconvert_exporter": "python",
   "pygments_lexer": "ipython3",
   "version": "3.8.10"
  }
 },
 "nbformat": 4,
 "nbformat_minor": 5
}
